{
 "cells": [
  {
   "cell_type": "markdown",
   "metadata": {},
   "source": [
    "# Evaluating Expainability"
   ]
  },
  {
   "cell_type": "code",
   "execution_count": 1,
   "metadata": {},
   "outputs": [],
   "source": [
    "from utils import make_test_set_esnli, make_test_set_mnli, make_test_set_cose\n",
    "from model import ZeroShotNLI, ZeroShotLearner\n",
    "from explainer import Explainer"
   ]
  },
  {
   "cell_type": "code",
   "execution_count": 2,
   "metadata": {},
   "outputs": [
    {
     "name": "stderr",
     "output_type": "stream",
     "text": [
      "Found cached dataset multi_nli (/Users/henningheyen/.cache/huggingface/datasets/multi_nli/default/0.0.0/591f72eb6263d1ab527561777936b199b714cda156d35716881158a2bd144f39)\n"
     ]
    },
    {
     "data": {
      "application/vnd.jupyter.widget-view+json": {
       "model_id": "60b9574a0f7b44a09f3ad20c2a252283",
       "version_major": 2,
       "version_minor": 0
      },
      "text/plain": [
       "  0%|          | 0/3 [00:00<?, ?it/s]"
      ]
     },
     "metadata": {},
     "output_type": "display_data"
    },
    {
     "name": "stdout",
     "output_type": "stream",
     "text": [
      "check3\n"
     ]
    },
    {
     "name": "stderr",
     "output_type": "stream",
     "text": [
      "Found cached dataset cos_e (/Users/henningheyen/.cache/huggingface/datasets/cos_e/v1.11/1.11.0/e8dc57a5b321a2a97063efb8d316d6d8a0d9a2d3a392dafc913e55bed42736d2)\n"
     ]
    },
    {
     "data": {
      "application/vnd.jupyter.widget-view+json": {
       "model_id": "80a2499fb66747369e825347c24d1f27",
       "version_major": 2,
       "version_minor": 0
      },
      "text/plain": [
       "  0%|          | 0/2 [00:00<?, ?it/s]"
      ]
     },
     "metadata": {},
     "output_type": "display_data"
    }
   ],
   "source": [
    "# number of explanations\n",
    "NUM_EXPL = 5\n",
    "\n",
    "#importing dataset\n",
    "dataset_esnli = make_test_set_esnli(size=NUM_EXPL) # 9842 is dev size esnli\n",
    "dataset_mnli = make_test_set_mnli(size=NUM_EXPL) # 9815 is dev size mnli\n",
    "dataset_cose = make_test_set_cose(size=NUM_EXPL) # 1221 is dev size cose"
   ]
  },
  {
   "cell_type": "markdown",
   "metadata": {},
   "source": [
    "## Importing Models"
   ]
  },
  {
   "cell_type": "code",
   "execution_count": 3,
   "metadata": {},
   "outputs": [],
   "source": [
    "# Natural Language Inference\n",
    "xsmall = ZeroShotNLI(model_name='nli-deberta-v3-xsmall')\n",
    "small = ZeroShotNLI(model_name='nli-deberta-v3-small')\n",
    "base = ZeroShotNLI(model_name='nli-deberta-v3-base')\n",
    "large = ZeroShotNLI(model_name='nli-deberta-v3-large')\n",
    "\n",
    "models = [\n",
    "    xsmall,\n",
    "    small,\n",
    "    base,\n",
    "    large\n",
    "]\n",
    "\n",
    "model_names = [\n",
    "    'xsmall',\n",
    "    'small',\n",
    "    'base',\n",
    "    'large'\n",
    "]"
   ]
  },
  {
   "cell_type": "code",
   "execution_count": 4,
   "metadata": {},
   "outputs": [],
   "source": [
    "# Zero Shot Classification\n",
    "xsmall = ZeroShotLearner(model_name='cross-encoder/nli-deberta-v3-xsmall')\n",
    "small = ZeroShotLearner(model_name='cross-encoder/nli-deberta-v3-small')\n",
    "base = ZeroShotLearner(model_name='cross-encoder/nli-deberta-v3-base')\n",
    "large = ZeroShotLearner(model_name='cross-encoder/nli-deberta-v3-large')\n",
    "\n",
    "models = [\n",
    "    xsmall,\n",
    "    small,\n",
    "    base,\n",
    "    large,\n",
    "]\n",
    "\n",
    "model_names = [\n",
    "    'xsmall',\n",
    "    'small',\n",
    "    'base',\n",
    "    'large',\n",
    "]"
   ]
  },
  {
   "cell_type": "markdown",
   "metadata": {},
   "source": [
    "# Faithfulness (Comprehensiveness and Sufficiency)"
   ]
  },
  {
   "cell_type": "markdown",
   "metadata": {},
   "source": [
    "### Natural Language Inference"
   ]
  },
  {
   "cell_type": "code",
   "execution_count": 5,
   "metadata": {},
   "outputs": [],
   "source": [
    "explainer = Explainer(class_names=['contradiction', 'entailment', 'neutral'])"
   ]
  },
  {
   "cell_type": "markdown",
   "metadata": {},
   "source": [
    "### MNLI"
   ]
  },
  {
   "cell_type": "code",
   "execution_count": 6,
   "metadata": {},
   "outputs": [
    {
     "name": "stdout",
     "output_type": "stream",
     "text": [
      "CPU times: user 3min 49s, sys: 3.68 s, total: 3min 53s\n",
      "Wall time: 3min 52s\n"
     ]
    }
   ],
   "source": [
    "%%time\n",
    "\n",
    "# Computing LIME explanations on xsmall\n",
    "explanations_xsmall = explainer.compute_explanations(\n",
    "    sentences = dataset_mnli['sentence_pairs'], \n",
    "    model=xsmall, \n",
    "    num_samples=100,  \n",
    "    task='NLI',\n",
    "    )"
   ]
  },
  {
   "cell_type": "code",
   "execution_count": 7,
   "metadata": {},
   "outputs": [
    {
     "name": "stdout",
     "output_type": "stream",
     "text": [
      "CPU times: user 7min 54s, sys: 8.85 s, total: 8min 3s\n",
      "Wall time: 8min 6s\n"
     ]
    }
   ],
   "source": [
    "%%time\n",
    "\n",
    "# Computing LIME explanations on small\n",
    "explanations_small = explainer.compute_explanations(\n",
    "   sentences = dataset_mnli['sentence_pairs'], \n",
    "   model=small, \n",
    "   num_samples=100,  \n",
    "   task='NLI',\n",
    "   )"
   ]
  },
  {
   "cell_type": "code",
   "execution_count": 8,
   "metadata": {},
   "outputs": [
    {
     "name": "stdout",
     "output_type": "stream",
     "text": [
      "CPU times: user 16min 21s, sys: 25.7 s, total: 16min 47s\n",
      "Wall time: 16min 57s\n"
     ]
    }
   ],
   "source": [
    "%%time\n",
    "\n",
    "# Computing LIME explanations on base\n",
    "explanations_base = explainer.compute_explanations(\n",
    "   sentences = dataset_mnli['sentence_pairs'], \n",
    "   model=base, \n",
    "   num_samples=100,  \n",
    "   task='NLI',\n",
    "   )"
   ]
  },
  {
   "cell_type": "code",
   "execution_count": 8,
   "metadata": {},
   "outputs": [
    {
     "name": "stderr",
     "output_type": "stream",
     "text": [
      "UsageError: Line magic function `%%time` not found.\n"
     ]
    }
   ],
   "source": [
    "%%time\n",
    "\n",
    "# Computing LIME explanations on large\n",
    "explanations_large = explainer.compute_explanations(\n",
    "   sentences = dataset_mnli['sentence_pairs'], \n",
    "   model=large, \n",
    "   num_samples=100,  \n",
    "   task='NLI',\n",
    "   )"
   ]
  },
  {
   "cell_type": "code",
   "execution_count": null,
   "metadata": {},
   "outputs": [],
   "source": [
    "explanations_mnli = [\n",
    "    explanations_xsmall, \n",
    "    explanations_small, \n",
    "    explanations_base, \n",
    "    explanations_large,\n",
    "    ]"
   ]
  },
  {
   "cell_type": "code",
   "execution_count": null,
   "metadata": {},
   "outputs": [],
   "source": [
    "# Calculating aggregated comprehensiveness and sufficiency on 100 explanations\n",
    "comp_list = []\n",
    "suff_list = []\n",
    "\n",
    "for i, model in enumerate(models):\n",
    "    \n",
    "    print('model: ', model_names[i])\n",
    "\n",
    "    comp_agg = [explainer.aggregated_metric(metric='comprehensiveness', explanation=explanations_mnli[i][j], sentence_pair=test_set['sentence_pairs'][j], predict=model.predict, verbose=False, bins=[0.1,0.3,0.5]) for j in range(size)]\n",
    "\n",
    "    comp_list.append(comp_agg)\n",
    "\n",
    "    suff_agg = [explainer.aggregated_metric(metric='sufficiency', explanation=explanations_mnli[i][j], sentence_pair=test_set['sentence_pairs'][j], predict=model.predict, verbose=False, bins=[0.1,0.3,0.5]) for j in range(size)]\n",
    "\n",
    "    suff_list.append(suff_agg)\n"
   ]
  },
  {
   "cell_type": "markdown",
   "metadata": {},
   "source": [
    "#### e-SNLI"
   ]
  },
  {
   "cell_type": "code",
   "execution_count": null,
   "metadata": {},
   "outputs": [],
   "source": []
  },
  {
   "cell_type": "markdown",
   "metadata": {},
   "source": [
    "# Plausibility (IOU and Token Level F1 Scores)"
   ]
  },
  {
   "cell_type": "code",
   "execution_count": null,
   "metadata": {},
   "outputs": [],
   "source": []
  },
  {
   "cell_type": "markdown",
   "metadata": {},
   "source": [
    "## CoS-e"
   ]
  },
  {
   "cell_type": "markdown",
   "metadata": {},
   "source": [
    "## e-SNLI"
   ]
  },
  {
   "cell_type": "code",
   "execution_count": null,
   "metadata": {},
   "outputs": [],
   "source": []
  }
 ],
 "metadata": {
  "kernelspec": {
   "display_name": "masterproject",
   "language": "python",
   "name": "python3"
  },
  "language_info": {
   "codemirror_mode": {
    "name": "ipython",
    "version": 3
   },
   "file_extension": ".py",
   "mimetype": "text/x-python",
   "name": "python",
   "nbconvert_exporter": "python",
   "pygments_lexer": "ipython3",
   "version": "3.11.4"
  },
  "orig_nbformat": 4
 },
 "nbformat": 4,
 "nbformat_minor": 2
}
