{
 "cells": [
  {
   "cell_type": "markdown",
   "metadata": {},
   "source": [
    "# Evaluating Global Expainability"
   ]
  },
  {
   "cell_type": "code",
   "execution_count": 1,
   "metadata": {},
   "outputs": [],
   "source": [
    "from utils import make_test_set_esnli, make_test_set_mnli, make_test_set_cose\n",
    "from model import ZeroShotNLI, ZeroShotLearner\n",
    "from explainer import Explainer"
   ]
  },
  {
   "cell_type": "code",
   "execution_count": 2,
   "metadata": {},
   "outputs": [
    {
     "name": "stderr",
     "output_type": "stream",
     "text": [
      "Found cached dataset multi_nli (/Users/henningheyen/.cache/huggingface/datasets/multi_nli/default/0.0.0/591f72eb6263d1ab527561777936b199b714cda156d35716881158a2bd144f39)\n"
     ]
    },
    {
     "data": {
      "application/vnd.jupyter.widget-view+json": {
       "model_id": "6a7f4cf716894dad86e15ecdc49605a3",
       "version_major": 2,
       "version_minor": 0
      },
      "text/plain": [
       "  0%|          | 0/3 [00:00<?, ?it/s]"
      ]
     },
     "metadata": {},
     "output_type": "display_data"
    },
    {
     "name": "stderr",
     "output_type": "stream",
     "text": [
      "Found cached dataset cos_e (/Users/henningheyen/.cache/huggingface/datasets/cos_e/v1.11/1.11.0/e8dc57a5b321a2a97063efb8d316d6d8a0d9a2d3a392dafc913e55bed42736d2)\n"
     ]
    },
    {
     "data": {
      "application/vnd.jupyter.widget-view+json": {
       "model_id": "0cf6549d41424918886ff1c02a470975",
       "version_major": 2,
       "version_minor": 0
      },
      "text/plain": [
       "  0%|          | 0/2 [00:00<?, ?it/s]"
      ]
     },
     "metadata": {},
     "output_type": "display_data"
    }
   ],
   "source": [
    "# number of explanations\n",
    "NUM_EXPL = 5\n",
    "\n",
    "#importing dataset\n",
    "dataset_esnli = make_test_set_esnli(size=NUM_EXPL) # 9830 is dev size esnli (originally 9842 but 12 instance are wrongly annotated)\n",
    "dataset_mnli = make_test_set_mnli(size=NUM_EXPL) # 9815 is dev size mnli\n",
    "dataset_cose = make_test_set_cose(size=NUM_EXPL) # 718 (originally 1221 is dev size cose but 503 instances have bad explanations, i.e. the whole question highlighted))"
   ]
  },
  {
   "cell_type": "code",
   "execution_count": 3,
   "metadata": {},
   "outputs": [
    {
     "name": "stderr",
     "output_type": "stream",
     "text": [
      "Found cached dataset cos_e (/Users/henningheyen/.cache/huggingface/datasets/cos_e/v1.11/1.11.0/e8dc57a5b321a2a97063efb8d316d6d8a0d9a2d3a392dafc913e55bed42736d2)\n"
     ]
    },
    {
     "data": {
      "application/vnd.jupyter.widget-view+json": {
       "model_id": "bbf7daea6535455395908d2fba97a861",
       "version_major": 2,
       "version_minor": 0
      },
      "text/plain": [
       "  0%|          | 0/2 [00:00<?, ?it/s]"
      ]
     },
     "metadata": {},
     "output_type": "display_data"
    },
    {
     "name": "stdout",
     "output_type": "stream",
     "text": [
      "average explanation input ratio e-SNLI:  0.19858092123245383\n",
      "average explanation input ratio CoS-e:  0.2605110957380536\n"
     ]
    }
   ],
   "source": [
    "#calculating average explanation length per dataset\n",
    "import numpy as np\n",
    "\n",
    "full_dataset_esnli = make_test_set_esnli(size=9830, remove_bad_explanations=True) # 9830 is dev size esnli (originally 9842 but 12 instance are wrongly annotated)\n",
    "full_dataset_cose = make_test_set_cose(size=718, remove_bad_explanations=True) # 718 (originally 1221 is dev size cose but 503 instances have bad explanations, i.e. the whole question highlighted))\n",
    "\n",
    "len_esnli = [len(full_dataset_esnli['extractive_explanation'][i])/(len(full_dataset_esnli['sentence_pairs'][i][0].split())+len(full_dataset_esnli['sentence_pairs'][i][1].split())) for i in range(9830)]\n",
    "len_cose = [len(full_dataset_cose['extractive_explanation'][i])/len(full_dataset_cose['question'][i].split()) for i in range(718)]\n",
    "\n",
    "avg_len_esnli = np.mean(len_esnli)\n",
    "avg_len_cose = np.mean(len_cose)\n",
    "\n",
    "print('average explanation input ratio e-SNLI: ', avg_len_esnli)\n",
    "print('average explanation input ratio CoS-e: ', avg_len_cose)"
   ]
  },
  {
   "cell_type": "markdown",
   "metadata": {},
   "source": [
    "# Calculating Explanations"
   ]
  },
  {
   "cell_type": "markdown",
   "metadata": {},
   "source": [
    "## Natural Language Inference"
   ]
  },
  {
   "cell_type": "code",
   "execution_count": 4,
   "metadata": {},
   "outputs": [],
   "source": [
    "# Natural Language Inference\n",
    "xsmall = ZeroShotNLI(model_name='nli-deberta-v3-xsmall')\n",
    "small = ZeroShotNLI(model_name='nli-deberta-v3-small')\n",
    "base = ZeroShotNLI(model_name='nli-deberta-v3-base')\n",
    "large = ZeroShotNLI(model_name='nli-deberta-v3-large')\n",
    "\n",
    "models = [\n",
    "    xsmall,\n",
    "    small,\n",
    "    base,\n",
    "    large\n",
    "]\n",
    "\n",
    "model_names = [\n",
    "    'xsmall',\n",
    "    'small',\n",
    "    'base',\n",
    "    'large'\n",
    "]"
   ]
  },
  {
   "cell_type": "code",
   "execution_count": 5,
   "metadata": {},
   "outputs": [],
   "source": [
    "explainer = Explainer(class_names=['contradiction', 'entailment', 'neutral'])"
   ]
  },
  {
   "cell_type": "markdown",
   "metadata": {},
   "source": [
    "### MNLI"
   ]
  },
  {
   "cell_type": "code",
   "execution_count": 6,
   "metadata": {},
   "outputs": [
    {
     "name": "stdout",
     "output_type": "stream",
     "text": [
      "CPU times: user 1min 24s, sys: 19.3 s, total: 1min 44s\n",
      "Wall time: 2min 34s\n"
     ]
    }
   ],
   "source": [
    "%%time\n",
    "\n",
    "# Computing LIME explanations on xsmall\n",
    "explanations_xsmall = explainer.compute_explanations(\n",
    "    sentences = dataset_mnli['sentence_pairs'], \n",
    "    model=xsmall, \n",
    "    num_samples=100,  \n",
    "    task='NLI',\n",
    "    )"
   ]
  },
  {
   "cell_type": "code",
   "execution_count": 7,
   "metadata": {},
   "outputs": [
    {
     "name": "stdout",
     "output_type": "stream",
     "text": [
      "CPU times: user 1min 14s, sys: 18.5 s, total: 1min 33s\n",
      "Wall time: 13min 46s\n"
     ]
    }
   ],
   "source": [
    "%%time\n",
    "\n",
    "# Computing LIME explanations on small\n",
    "explanations_small = explainer.compute_explanations(\n",
    "   sentences = dataset_mnli['sentence_pairs'], \n",
    "   model=small, \n",
    "   num_samples=100,  \n",
    "   task='NLI',\n",
    "   )"
   ]
  },
  {
   "cell_type": "code",
   "execution_count": 8,
   "metadata": {},
   "outputs": [
    {
     "name": "stdout",
     "output_type": "stream",
     "text": [
      "CPU times: user 2min 13s, sys: 22.9 s, total: 2min 36s\n",
      "Wall time: 2min 26s\n"
     ]
    }
   ],
   "source": [
    "%%time\n",
    "\n",
    "# Computing LIME explanations on base\n",
    "explanations_base = explainer.compute_explanations(\n",
    "   sentences = dataset_mnli['sentence_pairs'], \n",
    "   model=base, \n",
    "   num_samples=100,  \n",
    "   task='NLI',\n",
    "   )"
   ]
  },
  {
   "cell_type": "code",
   "execution_count": 9,
   "metadata": {},
   "outputs": [
    {
     "name": "stdout",
     "output_type": "stream",
     "text": [
      "CPU times: user 7min 53s, sys: 1min 2s, total: 8min 55s\n",
      "Wall time: 8min 30s\n"
     ]
    }
   ],
   "source": [
    "%%time\n",
    "\n",
    "# Computing LIME explanations on large\n",
    "explanations_large = explainer.compute_explanations(\n",
    "   sentences = dataset_mnli['sentence_pairs'], \n",
    "   model=large, \n",
    "   num_samples=100,  \n",
    "   task='NLI',\n",
    "   )"
   ]
  },
  {
   "cell_type": "code",
   "execution_count": 10,
   "metadata": {},
   "outputs": [],
   "source": [
    "explanations_mnli = [\n",
    "    explanations_xsmall, \n",
    "    explanations_small, \n",
    "    explanations_base, \n",
    "    explanations_large,\n",
    "    ]"
   ]
  },
  {
   "cell_type": "markdown",
   "metadata": {},
   "source": [
    "#### e-SNLI"
   ]
  },
  {
   "cell_type": "code",
   "execution_count": 11,
   "metadata": {},
   "outputs": [
    {
     "name": "stdout",
     "output_type": "stream",
     "text": [
      "CPU times: user 23.5 s, sys: 614 ms, total: 24.1 s\n",
      "Wall time: 22.9 s\n"
     ]
    }
   ],
   "source": [
    "%%time\n",
    "\n",
    "# Computing LIME explanations on xsmall\n",
    "explanations_xsmall = explainer.compute_explanations(\n",
    "    sentences = dataset_esnli['sentence_pairs'], \n",
    "    model=xsmall, \n",
    "    num_samples=100,  \n",
    "    task='NLI',\n",
    "    )"
   ]
  },
  {
   "cell_type": "code",
   "execution_count": 12,
   "metadata": {},
   "outputs": [
    {
     "name": "stdout",
     "output_type": "stream",
     "text": [
      "CPU times: user 39.3 s, sys: 5.81 s, total: 45.1 s\n",
      "Wall time: 41.6 s\n"
     ]
    }
   ],
   "source": [
    "%%time\n",
    "\n",
    "# Computing LIME explanations on small\n",
    "explanations_small = explainer.compute_explanations(\n",
    "   sentences = dataset_esnli['sentence_pairs'], \n",
    "   model=small, \n",
    "   num_samples=100,  \n",
    "   task='NLI',\n",
    "   )"
   ]
  },
  {
   "cell_type": "code",
   "execution_count": 13,
   "metadata": {},
   "outputs": [
    {
     "name": "stdout",
     "output_type": "stream",
     "text": [
      "CPU times: user 1min 18s, sys: 12 s, total: 1min 30s\n",
      "Wall time: 1min 23s\n"
     ]
    }
   ],
   "source": [
    "%%time\n",
    "\n",
    "# Computing LIME explanations on base\n",
    "explanations_base = explainer.compute_explanations(\n",
    "   sentences = dataset_esnli['sentence_pairs'], \n",
    "   model=base, \n",
    "   num_samples=100,  \n",
    "   task='NLI',\n",
    "   )"
   ]
  },
  {
   "cell_type": "code",
   "execution_count": 14,
   "metadata": {},
   "outputs": [
    {
     "name": "stdout",
     "output_type": "stream",
     "text": [
      "CPU times: user 4min 32s, sys: 39.8 s, total: 5min 11s\n",
      "Wall time: 5min\n"
     ]
    }
   ],
   "source": [
    "%%time\n",
    "\n",
    "# Computing LIME explanations on large\n",
    "explanations_large = explainer.compute_explanations(\n",
    "   sentences = dataset_esnli['sentence_pairs'], \n",
    "   model=large, \n",
    "   num_samples=100,  \n",
    "   task='NLI',\n",
    "   )"
   ]
  },
  {
   "cell_type": "code",
   "execution_count": 15,
   "metadata": {},
   "outputs": [],
   "source": [
    "explanations_esnli = [\n",
    "    explanations_xsmall, \n",
    "    explanations_small, \n",
    "    explanations_base, \n",
    "    explanations_large,\n",
    "    ]"
   ]
  },
  {
   "cell_type": "markdown",
   "metadata": {},
   "source": [
    "## Zero Shot Classification"
   ]
  },
  {
   "cell_type": "code",
   "execution_count": 16,
   "metadata": {},
   "outputs": [
    {
     "name": "stderr",
     "output_type": "stream",
     "text": [
      "'HTTPSConnectionPool(host='huggingface.co', port=443): Read timed out. (read timeout=10)' thrown while requesting HEAD https://huggingface.co/cross-encoder/nli-deberta-v3-xsmall/resolve/main/config.json\n"
     ]
    }
   ],
   "source": [
    "# Zero Shot Classification\n",
    "xsmall = ZeroShotLearner(model_name='cross-encoder/nli-deberta-v3-xsmall')\n",
    "small = ZeroShotLearner(model_name='cross-encoder/nli-deberta-v3-small')\n",
    "base = ZeroShotLearner(model_name='cross-encoder/nli-deberta-v3-base')\n",
    "large = ZeroShotLearner(model_name='cross-encoder/nli-deberta-v3-large')\n",
    "\n",
    "models = [\n",
    "    xsmall,\n",
    "    small,\n",
    "    base,\n",
    "    large,\n",
    "]\n",
    "\n",
    "model_names = [\n",
    "    'xsmall',\n",
    "    'small',\n",
    "    'base',\n",
    "    'large',\n",
    "]"
   ]
  },
  {
   "cell_type": "code",
   "execution_count": 17,
   "metadata": {},
   "outputs": [],
   "source": [
    "# no class names becuase of zero shot classification setting\n",
    "explainer = Explainer()"
   ]
  },
  {
   "cell_type": "code",
   "execution_count": 18,
   "metadata": {},
   "outputs": [
    {
     "name": "stdout",
     "output_type": "stream",
     "text": [
      "CPU times: user 6min 30s, sys: 9.53 s, total: 6min 40s\n",
      "Wall time: 6min 36s\n"
     ]
    }
   ],
   "source": [
    "%%time\n",
    "\n",
    "# Computing LIME explanations on xsmall\n",
    "explanations_xsmall = explainer.compute_explanations(\n",
    "   sentences = dataset_cose['question'], \n",
    "   model=xsmall, \n",
    "   num_samples=100,  \n",
    "   class_names_list=dataset_cose['candidate_labels_list']\n",
    "   )"
   ]
  },
  {
   "cell_type": "code",
   "execution_count": 19,
   "metadata": {},
   "outputs": [
    {
     "name": "stdout",
     "output_type": "stream",
     "text": [
      "CPU times: user 11min 55s, sys: 9.91 s, total: 12min 5s\n",
      "Wall time: 12min 2s\n"
     ]
    }
   ],
   "source": [
    "%%time\n",
    "\n",
    "# Computing LIME explanations on small\n",
    "explanations_small = explainer.compute_explanations(\n",
    "   sentences = dataset_cose['question'], \n",
    "   model=small, \n",
    "   num_samples=100,  \n",
    "   class_names_list=dataset_cose['candidate_labels_list']\n",
    "   )"
   ]
  },
  {
   "cell_type": "code",
   "execution_count": 20,
   "metadata": {},
   "outputs": [
    {
     "name": "stdout",
     "output_type": "stream",
     "text": [
      "CPU times: user 24min 31s, sys: 22.7 s, total: 24min 54s\n",
      "Wall time: 24min 46s\n"
     ]
    }
   ],
   "source": [
    "%%time\n",
    "\n",
    "# Computing LIME explanations on base\n",
    "explanations_base = explainer.compute_explanations(\n",
    "   sentences = dataset_cose['question'], \n",
    "   model=base, \n",
    "   num_samples=100,  \n",
    "   class_names_list=dataset_cose['candidate_labels_list']\n",
    "   )"
   ]
  },
  {
   "cell_type": "code",
   "execution_count": 21,
   "metadata": {},
   "outputs": [
    {
     "name": "stdout",
     "output_type": "stream",
     "text": [
      "CPU times: user 1h 18min 44s, sys: 2min 15s, total: 1h 21min\n",
      "Wall time: 1h 21min 8s\n"
     ]
    }
   ],
   "source": [
    "%%time\n",
    "\n",
    "# Computing LIME explanations on large\n",
    "explanations_large = explainer.compute_explanations(\n",
    "   sentences = dataset_cose['question'], \n",
    "   model=large, \n",
    "   num_samples=100,  \n",
    "   class_names_list=dataset_cose['candidate_labels_list']\n",
    "   )"
   ]
  },
  {
   "cell_type": "code",
   "execution_count": 22,
   "metadata": {},
   "outputs": [],
   "source": [
    "explanations_cose = [\n",
    "    explanations_xsmall, \n",
    "    explanations_small, \n",
    "    explanations_base, \n",
    "    explanations_large,\n",
    "    ]"
   ]
  },
  {
   "cell_type": "markdown",
   "metadata": {},
   "source": [
    "## Faithfulness (Comprehensiveness and Sufficiency)"
   ]
  },
  {
   "cell_type": "markdown",
   "metadata": {},
   "source": [
    "### Natural Langugage Inference"
   ]
  },
  {
   "cell_type": "code",
   "execution_count": 23,
   "metadata": {},
   "outputs": [],
   "source": [
    "# Natural Language Inference\n",
    "xsmall = ZeroShotNLI(model_name='nli-deberta-v3-xsmall')\n",
    "small = ZeroShotNLI(model_name='nli-deberta-v3-small')\n",
    "base = ZeroShotNLI(model_name='nli-deberta-v3-base')\n",
    "large = ZeroShotNLI(model_name='nli-deberta-v3-large')\n",
    "\n",
    "models = [\n",
    "    xsmall,\n",
    "    small,\n",
    "    base,\n",
    "    large\n",
    "]\n",
    "\n",
    "model_names = [\n",
    "    'xsmall',\n",
    "    'small',\n",
    "    'base',\n",
    "    'large'\n",
    "]"
   ]
  },
  {
   "cell_type": "markdown",
   "metadata": {},
   "source": [
    "#### MNLI"
   ]
  },
  {
   "cell_type": "code",
   "execution_count": 24,
   "metadata": {},
   "outputs": [
    {
     "name": "stdout",
     "output_type": "stream",
     "text": [
      "model:  xsmall\n",
      "model:  small\n",
      "model:  base\n",
      "model:  large\n"
     ]
    }
   ],
   "source": [
    "# Calculating aggregated comprehensiveness and sufficiency on 100 explanations\n",
    "comp_list_mnli = []\n",
    "suff_list_mnli = []\n",
    "\n",
    "for i, model in enumerate(models):\n",
    "    \n",
    "    print('model: ', model_names[i])\n",
    "\n",
    "    comp_agg = [explainer.aggregated_metric(metric='comprehensiveness', explanation=explanations_mnli[i][j], sentence=dataset_mnli['sentence_pairs'][j], predict=model.predict, verbose=False, bins=[0.1,0.3,0.5], task='NLI') for j in range(NUM_EXPL)]\n",
    "\n",
    "    comp_list_mnli.append(comp_agg)\n",
    "\n",
    "    suff_agg = [explainer.aggregated_metric(metric='sufficiency', explanation=explanations_mnli[i][j], sentence=dataset_mnli['sentence_pairs'][j], predict=model.predict, verbose=False, bins=[0.1,0.3,0.5], task='NLI') for j in range(NUM_EXPL)]\n",
    "\n",
    "    suff_list_mnli.append(suff_agg)\n"
   ]
  },
  {
   "cell_type": "code",
   "execution_count": 25,
   "metadata": {},
   "outputs": [
    {
     "name": "stdout",
     "output_type": "stream",
     "text": [
      "MNLI average aggregated comprehensiveness xsmall:  0.7545049\n",
      "MNLI average aggregated sufficiency xsmall:  0.13171107\n",
      "MNLI average aggregated comprehensiveness small:  0.7405578\n",
      "MNLI average aggregated sufficiency small:  0.058374256\n",
      "MNLI average aggregated comprehensiveness base:  0.7162611\n",
      "MNLI average aggregated sufficiency base:  0.06786741\n",
      "MNLI average aggregated comprehensiveness large:  0.76860434\n",
      "MNLI average aggregated sufficiency large:  0.22005364\n"
     ]
    }
   ],
   "source": [
    "for i, model in enumerate(models):\n",
    "    print(f'MNLI average aggregated comprehensiveness {model_names[i]}: ', np.mean(comp_list_mnli[i]))\n",
    "    print(f'MNLI average aggregated sufficiency {model_names[i]}: ', np.mean(suff_list_mnli[i]))"
   ]
  },
  {
   "cell_type": "markdown",
   "metadata": {},
   "source": [
    "#### e-SNLI"
   ]
  },
  {
   "cell_type": "code",
   "execution_count": 26,
   "metadata": {},
   "outputs": [
    {
     "name": "stdout",
     "output_type": "stream",
     "text": [
      "model:  xsmall\n",
      "model:  small\n",
      "model:  base\n",
      "model:  large\n"
     ]
    }
   ],
   "source": [
    "# Calculating aggregated comprehensiveness and sufficiency on 100 explanations\n",
    "comp_list_esnli = []\n",
    "suff_list_esnli = []\n",
    "\n",
    "for i, model in enumerate(models):\n",
    "    \n",
    "    print('model: ', model_names[i])\n",
    "\n",
    "    comp_agg = [explainer.aggregated_metric(metric='comprehensiveness', explanation=explanations_esnli[i][j], sentence=dataset_esnli['sentence_pairs'][j], predict=model.predict, verbose=False, bins=[0.1,0.3,0.5], task='NLI') for j in range(NUM_EXPL)]\n",
    "\n",
    "    comp_list_esnli.append(comp_agg)\n",
    "\n",
    "    suff_agg = [explainer.aggregated_metric(metric='sufficiency', explanation=explanations_esnli[i][j], sentence=dataset_esnli['sentence_pairs'][j], predict=model.predict, verbose=False, bins=[0.1,0.3,0.5], task='NLI') for j in range(NUM_EXPL)]\n",
    "\n",
    "    suff_list_esnli.append(suff_agg)"
   ]
  },
  {
   "cell_type": "code",
   "execution_count": 27,
   "metadata": {},
   "outputs": [
    {
     "name": "stdout",
     "output_type": "stream",
     "text": [
      "e-SNLI average aggregated comprehensiveness xsmall:  0.87449694\n",
      "e-SNLI average aggregated sufficiency xsmall:  0.15445168\n",
      "e-SNLI average aggregated comprehensiveness small:  0.8999321\n",
      "e-SNLI average aggregated sufficiency small:  0.07939016\n",
      "e-SNLI average aggregated comprehensiveness base:  0.7714423\n",
      "e-SNLI average aggregated sufficiency base:  0.05263756\n",
      "e-SNLI average aggregated comprehensiveness large:  0.7821625\n",
      "e-SNLI average aggregated sufficiency large:  0.055990852\n"
     ]
    }
   ],
   "source": [
    "for i, model in enumerate(models):\n",
    "    print(f'e-SNLI average aggregated comprehensiveness {model_names[i]}: ', np.mean(comp_list_esnli[i]))\n",
    "    print(f'e-SNLI average aggregated sufficiency {model_names[i]}: ', np.mean(suff_list_esnli[i]))"
   ]
  },
  {
   "cell_type": "markdown",
   "metadata": {},
   "source": [
    "### Zero Shot Classification"
   ]
  },
  {
   "cell_type": "code",
   "execution_count": 28,
   "metadata": {},
   "outputs": [],
   "source": [
    "# Zero Shot Classification\n",
    "xsmall = ZeroShotLearner(model_name='cross-encoder/nli-deberta-v3-xsmall')\n",
    "small = ZeroShotLearner(model_name='cross-encoder/nli-deberta-v3-small')\n",
    "base = ZeroShotLearner(model_name='cross-encoder/nli-deberta-v3-base')\n",
    "large = ZeroShotLearner(model_name='cross-encoder/nli-deberta-v3-large')\n",
    "\n",
    "models = [\n",
    "    xsmall,\n",
    "    small,\n",
    "    base,\n",
    "    large,\n",
    "]\n",
    "\n",
    "model_names = [\n",
    "    'xsmall',\n",
    "    'small',\n",
    "    'base',\n",
    "    'large',\n",
    "]"
   ]
  },
  {
   "cell_type": "markdown",
   "metadata": {},
   "source": [
    "#### CoS-e"
   ]
  },
  {
   "cell_type": "code",
   "execution_count": 29,
   "metadata": {},
   "outputs": [
    {
     "name": "stdout",
     "output_type": "stream",
     "text": [
      "model:  xsmall\n",
      "model:  small\n",
      "model:  base\n",
      "model:  large\n"
     ]
    }
   ],
   "source": [
    "# Calculating aggregated comprehensiveness and sufficiency on 100 explanations\n",
    "comp_list_cose = []\n",
    "suff_list_cose = []\n",
    "\n",
    "for i, model in enumerate(models):\n",
    "    \n",
    "    print('model: ', model_names[i])\n",
    "\n",
    "    comp_agg = [explainer.aggregated_metric(metric='comprehensiveness', explanation=explanations_cose[i][j], sentence=dataset_cose['question'][j], predict=model.predict, verbose=False, bins=[0.1,0.3,0.5], task='ZSC', candidate_labels=dataset_cose['candidate_labels_list'][j]) for j in range(NUM_EXPL)]\n",
    "\n",
    "    comp_list_cose.append(comp_agg)\n",
    "\n",
    "    suff_agg = [explainer.aggregated_metric(metric='sufficiency', explanation=explanations_cose[i][j], sentence=dataset_cose['question'][j], predict=model.predict, verbose=False, bins=[0.1,0.3,0.5], task='ZSC', candidate_labels=dataset_cose['candidate_labels_list'][j]) for j in range(NUM_EXPL)]\n",
    "\n",
    "    suff_list_cose.append(suff_agg)"
   ]
  },
  {
   "cell_type": "code",
   "execution_count": 30,
   "metadata": {},
   "outputs": [
    {
     "name": "stdout",
     "output_type": "stream",
     "text": [
      "CoS-e average aggregated comprehensiveness xsmall:  0.2321231697996457\n",
      "CoS-e average aggregated sufficiency xsmall:  -0.10452483793099723\n",
      "CoS-e average aggregated comprehensiveness small:  0.3997087893386682\n",
      "CoS-e average aggregated sufficiency small:  -0.030180058379968\n",
      "CoS-e average aggregated comprehensiveness base:  0.39675062000751493\n",
      "CoS-e average aggregated sufficiency base:  -0.0796395182609558\n",
      "CoS-e average aggregated comprehensiveness large:  0.40856975937883055\n",
      "CoS-e average aggregated sufficiency large:  -0.0059112494190533965\n"
     ]
    }
   ],
   "source": [
    "for i, model in enumerate(models):\n",
    "    print(f'CoS-e average aggregated comprehensiveness {model_names[i]}: ', np.mean(comp_list_cose[i]))\n",
    "    print(f'CoS-e average aggregated sufficiency {model_names[i]}: ', np.mean(suff_list_cose[i]))"
   ]
  },
  {
   "cell_type": "markdown",
   "metadata": {},
   "source": [
    "## Plausibility (IOU and Token Level F1 Scores)"
   ]
  },
  {
   "cell_type": "markdown",
   "metadata": {},
   "source": [
    "#### e-SNLI"
   ]
  },
  {
   "cell_type": "code",
   "execution_count": 31,
   "metadata": {},
   "outputs": [
    {
     "name": "stdout",
     "output_type": "stream",
     "text": [
      "xsmall macro_iou for 5 number of explanations (e-SNLI):  0.3\n",
      "xsmall macro_f1 for 5 number of explanations (e-SNLI):  0.4504761904761905\n",
      "small macro_iou for 5 number of explanations (e-SNLI):  0.2019047619047619\n",
      "small macro_f1 for 5 number of explanations (e-SNLI):  0.33380952380952383\n",
      "base macro_iou for 5 number of explanations (e-SNLI):  0.3619047619047619\n",
      "base macro_f1 for 5 number of explanations (e-SNLI):  0.4671428571428572\n",
      "large macro_iou for 5 number of explanations (e-SNLI):  0.39\n",
      "large macro_f1 for 5 number of explanations (e-SNLI):  0.5280952380952381\n"
     ]
    }
   ],
   "source": [
    "explanation_tokens_lists = [explainer.get_explanation_list(explanations_esnli[i], top_percent=avg_len_esnli) for i in range(4)]\n",
    "ground_truth_list = dataset_esnli['extractive_explanation']\n",
    "\n",
    "iou_macro_scores = [explainer.compute_macro_iou(explanation_tokens_list, ground_truth_list) for explanation_tokens_list in explanation_tokens_lists]\n",
    "tokenf1_macro_scores = [explainer.compute_macro_f1(explanation_tokens_list, ground_truth_list) for explanation_tokens_list in explanation_tokens_lists]\n",
    "\n",
    "for i, model in enumerate(models):\n",
    "    print(f'{model_names[i]} macro_iou for {NUM_EXPL} number of explanations (e-SNLI): ', iou_macro_scores[i])\n",
    "    print(f'{model_names[i]} macro_f1 for {NUM_EXPL} number of explanations (e-SNLI): ', tokenf1_macro_scores[i])"
   ]
  },
  {
   "cell_type": "markdown",
   "metadata": {},
   "source": [
    "#### CoS-e"
   ]
  },
  {
   "cell_type": "code",
   "execution_count": 32,
   "metadata": {},
   "outputs": [
    {
     "name": "stdout",
     "output_type": "stream",
     "text": [
      "xsmall macro_iou for 5 number of explanations (CoS-e):  0.11714285714285713\n",
      "xsmall macro_f1 for 5 number of explanations (CoS-e):  0.1811965811965812\n",
      "small macro_iou for 5 number of explanations (CoS-e):  0.13833333333333334\n",
      "small macro_f1 for 5 number of explanations (CoS-e):  0.2302586302586303\n",
      "base macro_iou for 5 number of explanations (CoS-e):  0.10500000000000001\n",
      "base macro_f1 for 5 number of explanations (CoS-e):  0.17311577311577311\n",
      "large macro_iou for 5 number of explanations (CoS-e):  0.17833333333333332\n",
      "large macro_f1 for 5 number of explanations (CoS-e):  0.29692529692529696\n"
     ]
    }
   ],
   "source": [
    "explanation_tokens_lists = [explainer.get_explanation_list(explanations_cose[i], top_percent=avg_len_cose) for i in range(4)]\n",
    "ground_truth_list = dataset_cose['extractive_explanation']\n",
    "\n",
    "iou_macro_scores = [explainer.compute_macro_iou(explanation_tokens_list, ground_truth_list) for explanation_tokens_list in explanation_tokens_lists]\n",
    "tokenf1_macro_scores = [explainer.compute_macro_f1(explanation_tokens_list, ground_truth_list) for explanation_tokens_list in explanation_tokens_lists]\n",
    "\n",
    "for i, model in enumerate(models):\n",
    "    print(f'{model_names[i]} macro_iou for {NUM_EXPL} number of explanations (CoS-e): ', iou_macro_scores[i])\n",
    "    print(f'{model_names[i]} macro_f1 for {NUM_EXPL} number of explanations (CoS-e): ', tokenf1_macro_scores[i])"
   ]
  },
  {
   "cell_type": "markdown",
   "metadata": {},
   "source": [
    "# Importing Results"
   ]
  },
  {
   "cell_type": "code",
   "execution_count": 1,
   "metadata": {},
   "outputs": [],
   "source": [
    "import pandas as pd\n",
    "import matplotlib.pyplot as plt\n",
    "import json"
   ]
  },
  {
   "cell_type": "code",
   "execution_count": 2,
   "metadata": {},
   "outputs": [],
   "source": [
    "# Importing results calculated on Colab servers\n",
    "import json\n",
    "\n",
    "\n",
    "# Read the file\n",
    "with open('results/explainability_results_mnli.json', 'r') as f:\n",
    "    explainability_results_mnli = json.load(f)\n",
    "\n",
    "# Read the file\n",
    "with open('results/explainability_results_esnli.json', 'r') as f:\n",
    "    explainability_results_esnli = json.load(f)\n",
    "\n",
    "# Read the file\n",
    "with open('results/explainability_results_cose_wo_large.json', 'r') as f:\n",
    "    explainability_results_cose_wo_large = json.load(f)\n",
    "\n",
    "# Read the file\n",
    "with open('results/explainability_results_cose_large.json', 'r') as f:\n",
    "    explainability_results_cose_large = json.load(f)\n"
   ]
  },
  {
   "cell_type": "code",
   "execution_count": 5,
   "metadata": {},
   "outputs": [],
   "source": [
    "# # Will be replaced after computation has finished\n",
    "# explainability_results_cose = explainability_results_cose_wo_large\n",
    "\n",
    "# # Temporary results\n",
    "# large_results_cose = {\n",
    "#     'explanations_as_list': None,\n",
    "#     'faithfulness': {\n",
    "#         'comprehensiveness': None,\n",
    "#         'macro_comprehensiveness': 0.3910369690948089,\n",
    "#         'sufficiency': None,\n",
    "#         'macro_sufficiency': -0.07993169858741261,\n",
    "#     },\n",
    "#     'plausibility': {\n",
    "#         'iou': None,\n",
    "#         'macro_iou': 0.23037491476531724,\n",
    "#         'tokenf1': None,\n",
    "#         'macro_tokenf1': 0.3577848869826424,\n",
    "#     },\n",
    "# }\n",
    "\n",
    "# explainability_results_cose['cose']['large'] = large_results_cose\n",
    "\n",
    "# Merging cose results\n",
    "explainability_results_cose = explainability_results_cose_wo_large\n",
    "explainability_results_cose['cose']['large'] = explainability_results_cose_large['cose']['large']\n"
   ]
  },
  {
   "cell_type": "code",
   "execution_count": 3,
   "metadata": {},
   "outputs": [],
   "source": [
    "def print_key_tree(d, indent=0):\n",
    "    for key, value in d.items():\n",
    "        print('  ' * indent + str(key) + \": \" + str(type(value)))\n",
    "        if isinstance(value, dict):\n",
    "            print_key_tree(value, indent + 1)\n",
    "        elif isinstance(value, list):\n",
    "            if all(isinstance(i, dict) for i in value):\n",
    "                for sub_dict in value:\n",
    "                    print_key_tree(sub_dict, indent + 1)"
   ]
  },
  {
   "cell_type": "code",
   "execution_count": 6,
   "metadata": {},
   "outputs": [
    {
     "name": "stdout",
     "output_type": "stream",
     "text": [
      "cose: <class 'dict'>\n",
      "  xsmall: <class 'dict'>\n",
      "    explanations_as_list: <class 'list'>\n",
      "    faithfulness: <class 'dict'>\n",
      "      comprehensiveness: <class 'list'>\n",
      "      macro_comprehensiveness: <class 'float'>\n",
      "      sufficiency: <class 'list'>\n",
      "      macro_sufficiency: <class 'float'>\n",
      "    plausibility: <class 'dict'>\n",
      "      iou: <class 'list'>\n",
      "      macro_iou: <class 'float'>\n",
      "      tokenf1: <class 'list'>\n",
      "      macro_tokenf1: <class 'float'>\n",
      "  small: <class 'dict'>\n",
      "    explanations_as_list: <class 'list'>\n",
      "    faithfulness: <class 'dict'>\n",
      "      comprehensiveness: <class 'list'>\n",
      "      macro_comprehensiveness: <class 'float'>\n",
      "      sufficiency: <class 'list'>\n",
      "      macro_sufficiency: <class 'float'>\n",
      "    plausibility: <class 'dict'>\n",
      "      iou: <class 'list'>\n",
      "      macro_iou: <class 'float'>\n",
      "      tokenf1: <class 'list'>\n",
      "      macro_tokenf1: <class 'float'>\n",
      "  base: <class 'dict'>\n",
      "    explanations_as_list: <class 'list'>\n",
      "    faithfulness: <class 'dict'>\n",
      "      comprehensiveness: <class 'list'>\n",
      "      macro_comprehensiveness: <class 'float'>\n",
      "      sufficiency: <class 'list'>\n",
      "      macro_sufficiency: <class 'float'>\n",
      "    plausibility: <class 'dict'>\n",
      "      iou: <class 'list'>\n",
      "      macro_iou: <class 'float'>\n",
      "      tokenf1: <class 'list'>\n",
      "      macro_tokenf1: <class 'float'>\n",
      "  large: <class 'dict'>\n",
      "    explanations_as_list: <class 'list'>\n",
      "    faithfulness: <class 'dict'>\n",
      "      comprehensiveness: <class 'list'>\n",
      "      macro_comprehensiveness: <class 'float'>\n",
      "      sufficiency: <class 'list'>\n",
      "      macro_sufficiency: <class 'float'>\n",
      "    plausibility: <class 'dict'>\n",
      "      iou: <class 'list'>\n",
      "      macro_iou: <class 'float'>\n",
      "      tokenf1: <class 'list'>\n",
      "      macro_tokenf1: <class 'float'>\n"
     ]
    }
   ],
   "source": [
    "print_key_tree(explainability_results_cose)"
   ]
  },
  {
   "cell_type": "code",
   "execution_count": 7,
   "metadata": {},
   "outputs": [],
   "source": [
    "# all in one dictionary:\n",
    "explainability_results = {}\n",
    "explainability_results['mnli'] = explainability_results_mnli['mnli']\n",
    "explainability_results['esnli'] = explainability_results_esnli['esnli']\n",
    "explainability_results['cose'] = explainability_results_cose['cose']"
   ]
  },
  {
   "cell_type": "code",
   "execution_count": 8,
   "metadata": {},
   "outputs": [
    {
     "name": "stdout",
     "output_type": "stream",
     "text": [
      "mnli: <class 'dict'>\n",
      "  xsmall: <class 'dict'>\n",
      "    explanations_as_list: <class 'list'>\n",
      "    faithfulness: <class 'dict'>\n",
      "      comprehensiveness: <class 'list'>\n",
      "      macro_comprehensiveness: <class 'float'>\n",
      "      sufficiency: <class 'list'>\n",
      "      macro_sufficiency: <class 'float'>\n",
      "  small: <class 'dict'>\n",
      "    explanations_as_list: <class 'list'>\n",
      "    faithfulness: <class 'dict'>\n",
      "      comprehensiveness: <class 'list'>\n",
      "      macro_comprehensiveness: <class 'float'>\n",
      "      sufficiency: <class 'list'>\n",
      "      macro_sufficiency: <class 'float'>\n",
      "  base: <class 'dict'>\n",
      "    explanations_as_list: <class 'list'>\n",
      "    faithfulness: <class 'dict'>\n",
      "      comprehensiveness: <class 'list'>\n",
      "      macro_comprehensiveness: <class 'float'>\n",
      "      sufficiency: <class 'list'>\n",
      "      macro_sufficiency: <class 'float'>\n",
      "  large: <class 'dict'>\n",
      "    explanations_as_list: <class 'list'>\n",
      "    faithfulness: <class 'dict'>\n",
      "      comprehensiveness: <class 'list'>\n",
      "      macro_comprehensiveness: <class 'float'>\n",
      "      sufficiency: <class 'list'>\n",
      "      macro_sufficiency: <class 'float'>\n",
      "esnli: <class 'dict'>\n",
      "  xsmall: <class 'dict'>\n",
      "    explanations_as_list: <class 'list'>\n",
      "    faithfulness: <class 'dict'>\n",
      "      comprehensiveness: <class 'list'>\n",
      "      macro_comprehensiveness: <class 'float'>\n",
      "      sufficiency: <class 'list'>\n",
      "      macro_sufficiency: <class 'float'>\n",
      "    plausibility: <class 'dict'>\n",
      "      iou: <class 'list'>\n",
      "      macro_iou: <class 'float'>\n",
      "      tokenf1: <class 'list'>\n",
      "      macro_tokenf1: <class 'float'>\n",
      "  small: <class 'dict'>\n",
      "    explanations_as_list: <class 'list'>\n",
      "    faithfulness: <class 'dict'>\n",
      "      comprehensiveness: <class 'list'>\n",
      "      macro_comprehensiveness: <class 'float'>\n",
      "      sufficiency: <class 'list'>\n",
      "      macro_sufficiency: <class 'float'>\n",
      "    plausibility: <class 'dict'>\n",
      "      iou: <class 'list'>\n",
      "      macro_iou: <class 'float'>\n",
      "      tokenf1: <class 'list'>\n",
      "      macro_tokenf1: <class 'float'>\n",
      "  base: <class 'dict'>\n",
      "    explanations_as_list: <class 'list'>\n",
      "    faithfulness: <class 'dict'>\n",
      "      comprehensiveness: <class 'list'>\n",
      "      macro_comprehensiveness: <class 'float'>\n",
      "      sufficiency: <class 'list'>\n",
      "      macro_sufficiency: <class 'float'>\n",
      "    plausibility: <class 'dict'>\n",
      "      iou: <class 'list'>\n",
      "      macro_iou: <class 'float'>\n",
      "      tokenf1: <class 'list'>\n",
      "      macro_tokenf1: <class 'float'>\n",
      "  large: <class 'dict'>\n",
      "    explanations_as_list: <class 'list'>\n",
      "    faithfulness: <class 'dict'>\n",
      "      comprehensiveness: <class 'list'>\n",
      "      macro_comprehensiveness: <class 'float'>\n",
      "      sufficiency: <class 'list'>\n",
      "      macro_sufficiency: <class 'float'>\n",
      "    plausibility: <class 'dict'>\n",
      "      iou: <class 'list'>\n",
      "      macro_iou: <class 'float'>\n",
      "      tokenf1: <class 'list'>\n",
      "      macro_tokenf1: <class 'float'>\n",
      "cose: <class 'dict'>\n",
      "  xsmall: <class 'dict'>\n",
      "    explanations_as_list: <class 'list'>\n",
      "    faithfulness: <class 'dict'>\n",
      "      comprehensiveness: <class 'list'>\n",
      "      macro_comprehensiveness: <class 'float'>\n",
      "      sufficiency: <class 'list'>\n",
      "      macro_sufficiency: <class 'float'>\n",
      "    plausibility: <class 'dict'>\n",
      "      iou: <class 'list'>\n",
      "      macro_iou: <class 'float'>\n",
      "      tokenf1: <class 'list'>\n",
      "      macro_tokenf1: <class 'float'>\n",
      "  small: <class 'dict'>\n",
      "    explanations_as_list: <class 'list'>\n",
      "    faithfulness: <class 'dict'>\n",
      "      comprehensiveness: <class 'list'>\n",
      "      macro_comprehensiveness: <class 'float'>\n",
      "      sufficiency: <class 'list'>\n",
      "      macro_sufficiency: <class 'float'>\n",
      "    plausibility: <class 'dict'>\n",
      "      iou: <class 'list'>\n",
      "      macro_iou: <class 'float'>\n",
      "      tokenf1: <class 'list'>\n",
      "      macro_tokenf1: <class 'float'>\n",
      "  base: <class 'dict'>\n",
      "    explanations_as_list: <class 'list'>\n",
      "    faithfulness: <class 'dict'>\n",
      "      comprehensiveness: <class 'list'>\n",
      "      macro_comprehensiveness: <class 'float'>\n",
      "      sufficiency: <class 'list'>\n",
      "      macro_sufficiency: <class 'float'>\n",
      "    plausibility: <class 'dict'>\n",
      "      iou: <class 'list'>\n",
      "      macro_iou: <class 'float'>\n",
      "      tokenf1: <class 'list'>\n",
      "      macro_tokenf1: <class 'float'>\n",
      "  large: <class 'dict'>\n",
      "    explanations_as_list: <class 'list'>\n",
      "    faithfulness: <class 'dict'>\n",
      "      comprehensiveness: <class 'list'>\n",
      "      macro_comprehensiveness: <class 'float'>\n",
      "      sufficiency: <class 'list'>\n",
      "      macro_sufficiency: <class 'float'>\n",
      "    plausibility: <class 'dict'>\n",
      "      iou: <class 'list'>\n",
      "      macro_iou: <class 'float'>\n",
      "      tokenf1: <class 'list'>\n",
      "      macro_tokenf1: <class 'float'>\n"
     ]
    }
   ],
   "source": [
    "print_key_tree(explainability_results)"
   ]
  },
  {
   "cell_type": "code",
   "execution_count": 9,
   "metadata": {},
   "outputs": [],
   "source": [
    "model_names = ['xsmall', 'small', 'base', 'large']\n",
    "model_sizes = ['xsmall (22m)', 'small (44m)', 'base (86m) ', 'large (304m)']\n",
    "datasets = ['esnli', 'mnli', 'cose']\n",
    "dataset_labels = ['e-SNLI', 'MNLI', 'CoS-e']"
   ]
  },
  {
   "cell_type": "code",
   "execution_count": 10,
   "metadata": {},
   "outputs": [
    {
     "data": {
      "image/png": "[encoded data removed]",
      "text/plain": [
       "<Figure size 800x600 with 1 Axes>"
      ]
     },
     "metadata": {},
     "output_type": "display_data"
    },
    {
     "data": {
      "image/png": "[encoded data removed]",
      "text/plain": [
       "<Figure size 800x600 with 1 Axes>"
      ]
     },
     "metadata": {},
     "output_type": "display_data"
    }
   ],
   "source": [
    "# Plotting macro_comprehensiveness\n",
    "plt.figure(figsize=(8, 6))\n",
    "for dataset, label in zip(datasets, dataset_labels):\n",
    "    y_values = [explainability_results[dataset][model_name]['faithfulness']['macro_comprehensiveness'] for model_name in model_names]\n",
    "    plt.plot(model_sizes, y_values, 'o-', label=label)  # 'o-' adds circle markers\n",
    "\n",
    "plt.ylim(0,1)\n",
    "plt.xlabel('Model Size')\n",
    "plt.ylabel('Macro Comprehensiveness')\n",
    "plt.title('Macro Comprehensiveness across Datasets and Model Sizes')\n",
    "plt.legend()\n",
    "plt.show()\n",
    "\n",
    "# Plotting macro_sufficiency\n",
    "plt.figure(figsize=(8, 6))\n",
    "for dataset, label in zip(datasets, dataset_labels):\n",
    "    y_values = [explainability_results[dataset][model_name]['faithfulness']['macro_sufficiency'] for model_name in model_names]\n",
    "    plt.plot(model_sizes, y_values, 'o-', label=label)  # 'o-' adds circle markers\n",
    "\n",
    "plt.ylim(-0.2,0.3)\n",
    "plt.xlabel('Model Size')\n",
    "plt.ylabel('Macro Sufficiency')\n",
    "plt.title('Macro Sufficiency across Datasets and Model Sizes')\n",
    "plt.legend()\n",
    "plt.show()\n"
   ]
  },
  {
   "cell_type": "code",
   "execution_count": 11,
   "metadata": {},
   "outputs": [
    {
     "data": {
      "image/png": "[encoded data removed]",
      "text/plain": [
       "<Figure size 800x600 with 1 Axes>"
      ]
     },
     "metadata": {},
     "output_type": "display_data"
    },
    {
     "data": {
      "image/png": "[encoded data removed]",
      "text/plain": [
       "<Figure size 800x600 with 1 Axes>"
      ]
     },
     "metadata": {},
     "output_type": "display_data"
    }
   ],
   "source": [
    "# Plotting macro_iou\n",
    "plt.figure(figsize=(8, 6))\n",
    "for dataset, label in zip(datasets, dataset_labels):\n",
    "    if dataset == 'mnli':\n",
    "        continue    \n",
    "    y_values = [explainability_results[dataset][model_name]['plausibility']['macro_iou'] for model_name in model_names]\n",
    "    plt.plot(model_sizes, y_values, 'o-', label=label)  # 'o-' adds circle markers\n",
    "\n",
    "plt.ylim(0, 1)  # You can adjust these limits based on your actual data\n",
    "plt.xlabel('Model Size')\n",
    "plt.ylabel('Macro IOU')\n",
    "plt.title('Macro IOU across Datasets and Model Sizes')\n",
    "plt.legend()\n",
    "plt.show()\n",
    "\n",
    "# Plotting token_f1\n",
    "plt.figure(figsize=(8, 6))\n",
    "for dataset, label in zip(datasets, dataset_labels):\n",
    "    if dataset == 'mnli':\n",
    "        continue\n",
    "    y_values = [explainability_results[dataset][model_name]['plausibility']['macro_tokenf1'] for model_name in model_names]\n",
    "    plt.plot(model_sizes, y_values, 'o-', label=label)  # 'o-' adds circle markers\n",
    "\n",
    "plt.ylim(0, 1)  # You can adjust these limits based on your actual data\n",
    "plt.xlabel('Model Size')\n",
    "plt.ylabel('Token F1')\n",
    "plt.title('Token F1 across Datasets and Model Sizes')\n",
    "plt.legend()\n",
    "plt.show()"
   ]
  },
  {
   "cell_type": "code",
   "execution_count": 12,
   "metadata": {},
   "outputs": [
    {
     "data": {
      "text/html": [
       "<div>\n",
       "<style scoped>\n",
       "    .dataframe tbody tr th:only-of-type {\n",
       "        vertical-align: middle;\n",
       "    }\n",
       "\n",
       "    .dataframe tbody tr th {\n",
       "        vertical-align: top;\n",
       "    }\n",
       "\n",
       "    .dataframe thead th {\n",
       "        text-align: right;\n",
       "    }\n",
       "</style>\n",
       "<table border=\"1\" class=\"dataframe\">\n",
       "  <thead>\n",
       "    <tr style=\"text-align: right;\">\n",
       "      <th></th>\n",
       "      <th>Dataset</th>\n",
       "      <th>Model Size</th>\n",
       "      <th>Macro Comprehensiveness</th>\n",
       "      <th>Macro Sufficiency</th>\n",
       "      <th>Macro IOU</th>\n",
       "      <th>Macro Token F1</th>\n",
       "    </tr>\n",
       "  </thead>\n",
       "  <tbody>\n",
       "    <tr>\n",
       "      <th>0</th>\n",
       "      <td>e-SNLI</td>\n",
       "      <td>xsmall</td>\n",
       "      <td>0.726</td>\n",
       "      <td>0.146</td>\n",
       "      <td>0.271</td>\n",
       "      <td>0.402</td>\n",
       "    </tr>\n",
       "    <tr>\n",
       "      <th>1</th>\n",
       "      <td>e-SNLI</td>\n",
       "      <td>small</td>\n",
       "      <td>0.724</td>\n",
       "      <td>0.201</td>\n",
       "      <td>0.252</td>\n",
       "      <td>0.376</td>\n",
       "    </tr>\n",
       "    <tr>\n",
       "      <th>2</th>\n",
       "      <td>e-SNLI</td>\n",
       "      <td>base</td>\n",
       "      <td>0.764</td>\n",
       "      <td>0.187</td>\n",
       "      <td>0.25</td>\n",
       "      <td>0.374</td>\n",
       "    </tr>\n",
       "    <tr>\n",
       "      <th>3</th>\n",
       "      <td>e-SNLI</td>\n",
       "      <td>large</td>\n",
       "      <td>0.778</td>\n",
       "      <td>0.196</td>\n",
       "      <td>0.25</td>\n",
       "      <td>0.371</td>\n",
       "    </tr>\n",
       "    <tr>\n",
       "      <th>4</th>\n",
       "      <td>MNLI</td>\n",
       "      <td>xsmall</td>\n",
       "      <td>0.785</td>\n",
       "      <td>0.160</td>\n",
       "      <td>-</td>\n",
       "      <td>-</td>\n",
       "    </tr>\n",
       "    <tr>\n",
       "      <th>5</th>\n",
       "      <td>MNLI</td>\n",
       "      <td>small</td>\n",
       "      <td>0.817</td>\n",
       "      <td>0.131</td>\n",
       "      <td>-</td>\n",
       "      <td>-</td>\n",
       "    </tr>\n",
       "    <tr>\n",
       "      <th>6</th>\n",
       "      <td>MNLI</td>\n",
       "      <td>base</td>\n",
       "      <td>0.796</td>\n",
       "      <td>0.205</td>\n",
       "      <td>-</td>\n",
       "      <td>-</td>\n",
       "    </tr>\n",
       "    <tr>\n",
       "      <th>7</th>\n",
       "      <td>MNLI</td>\n",
       "      <td>large</td>\n",
       "      <td>0.823</td>\n",
       "      <td>0.190</td>\n",
       "      <td>-</td>\n",
       "      <td>-</td>\n",
       "    </tr>\n",
       "    <tr>\n",
       "      <th>8</th>\n",
       "      <td>CoS-e</td>\n",
       "      <td>xsmall</td>\n",
       "      <td>0.304</td>\n",
       "      <td>-0.107</td>\n",
       "      <td>0.233</td>\n",
       "      <td>0.357</td>\n",
       "    </tr>\n",
       "    <tr>\n",
       "      <th>9</th>\n",
       "      <td>CoS-e</td>\n",
       "      <td>small</td>\n",
       "      <td>0.316</td>\n",
       "      <td>-0.143</td>\n",
       "      <td>0.231</td>\n",
       "      <td>0.352</td>\n",
       "    </tr>\n",
       "    <tr>\n",
       "      <th>10</th>\n",
       "      <td>CoS-e</td>\n",
       "      <td>base</td>\n",
       "      <td>0.356</td>\n",
       "      <td>-0.059</td>\n",
       "      <td>0.235</td>\n",
       "      <td>0.365</td>\n",
       "    </tr>\n",
       "    <tr>\n",
       "      <th>11</th>\n",
       "      <td>CoS-e</td>\n",
       "      <td>large</td>\n",
       "      <td>0.391</td>\n",
       "      <td>-0.080</td>\n",
       "      <td>0.23</td>\n",
       "      <td>0.358</td>\n",
       "    </tr>\n",
       "  </tbody>\n",
       "</table>\n",
       "</div>"
      ],
      "text/plain": [
       "   Dataset Model Size  Macro Comprehensiveness  Macro Sufficiency Macro IOU  \\\n",
       "0   e-SNLI     xsmall                    0.726              0.146     0.271   \n",
       "1   e-SNLI      small                    0.724              0.201     0.252   \n",
       "2   e-SNLI       base                    0.764              0.187      0.25   \n",
       "3   e-SNLI      large                    0.778              0.196      0.25   \n",
       "4     MNLI     xsmall                    0.785              0.160         -   \n",
       "5     MNLI      small                    0.817              0.131         -   \n",
       "6     MNLI       base                    0.796              0.205         -   \n",
       "7     MNLI      large                    0.823              0.190         -   \n",
       "8    CoS-e     xsmall                    0.304             -0.107     0.233   \n",
       "9    CoS-e      small                    0.316             -0.143     0.231   \n",
       "10   CoS-e       base                    0.356             -0.059     0.235   \n",
       "11   CoS-e      large                    0.391             -0.080      0.23   \n",
       "\n",
       "   Macro Token F1  \n",
       "0           0.402  \n",
       "1           0.376  \n",
       "2           0.374  \n",
       "3           0.371  \n",
       "4               -  \n",
       "5               -  \n",
       "6               -  \n",
       "7               -  \n",
       "8           0.357  \n",
       "9           0.352  \n",
       "10          0.365  \n",
       "11          0.358  "
      ]
     },
     "execution_count": 12,
     "metadata": {},
     "output_type": "execute_result"
    }
   ],
   "source": [
    "# table\n",
    "data = []\n",
    "\n",
    "for dataset, label in zip(datasets, dataset_labels):\n",
    "    for model_name in model_names:\n",
    "        macro_comprehensiveness = round(explainability_results[dataset][model_name]['faithfulness']['macro_comprehensiveness'],3)\n",
    "        macro_sufficiency = round(explainability_results[dataset][model_name]['faithfulness']['macro_sufficiency'],3)\n",
    "        if dataset == 'mnli':\n",
    "            macro_iou = '-'\n",
    "            macro_tokenf1 = '-'\n",
    "        else:\n",
    "            macro_iou = round(explainability_results[dataset][model_name]['plausibility']['macro_iou'],3)\n",
    "            macro_tokenf1 = round(explainability_results[dataset][model_name]['plausibility']['macro_tokenf1'],3)\n",
    "            \n",
    "        data.append([label, model_name, macro_comprehensiveness, macro_sufficiency, macro_iou, macro_tokenf1])\n",
    "\n",
    "df_explainabliity_results = pd.DataFrame(data, columns=['Dataset', 'Model Size', 'Macro Comprehensiveness', 'Macro Sufficiency', 'Macro IOU', 'Macro Token F1'])\n",
    "\n",
    "df_explainabliity_results.head(50)"
   ]
  },
  {
   "cell_type": "code",
   "execution_count": 44,
   "metadata": {},
   "outputs": [],
   "source": [
    "df_explainabliity_results.to_csv('results/df_explainabliity_results.csv', index=False)"
   ]
  },
  {
   "cell_type": "code",
   "execution_count": null,
   "metadata": {},
   "outputs": [],
   "source": []
  }
 ],
 "metadata": {
  "kernelspec": {
   "display_name": "masterproject",
   "language": "python",
   "name": "python3"
  },
  "language_info": {
   "codemirror_mode": {
    "name": "ipython",
    "version": 3
   },
   "file_extension": ".py",
   "mimetype": "text/x-python",
   "name": "python",
   "nbconvert_exporter": "python",
   "pygments_lexer": "ipython3",
   "version": "3.11.4"
  },
  "orig_nbformat": 4
 },
 "nbformat": 4,
 "nbformat_minor": 2
}
