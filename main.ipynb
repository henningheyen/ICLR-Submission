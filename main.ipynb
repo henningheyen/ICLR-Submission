{
 "cells": [
  {
   "cell_type": "code",
   "execution_count": 1,
   "metadata": {},
   "outputs": [],
   "source": [
    "from transformers import pipeline\n",
    "import lime\n"
   ]
  },
  {
   "cell_type": "code",
   "execution_count": 2,
   "metadata": {},
   "outputs": [],
   "source": [
    "from metrics import predict\n",
    "from metrics import get_results\n"
   ]
  },
  {
   "cell_type": "code",
   "execution_count": 3,
   "metadata": {},
   "outputs": [],
   "source": [
    "classifier = pipeline(\"zero-shot-classification\", model='cross-encoder/nli-deberta-v3-base', use_fast = False)"
   ]
  },
  {
   "cell_type": "code",
   "execution_count": 4,
   "metadata": {},
   "outputs": [
    {
     "name": "stdout",
     "output_type": "stream",
     "text": [
      "[{'sequence': 'Life is boring', 'labels': ['negative sentiment', 'positive sentiment'], 'scores': [0.9941304326057434, 0.005869550164788961]}, {'sequence': 'Life is amazing', 'labels': ['positive sentiment', 'negative sentiment'], 'scores': [0.999532163143158, 0.0004678335099015385]}]\n"
     ]
    }
   ],
   "source": [
    "sent = [\"Life is boring\", \"Life is amazing\"]\n",
    "candidate_labels = [\"negative sentiment\", \"positive sentiment\"]\n",
    "result = get_results(classifier, sent, candidate_labels)\n",
    "print(result)"
   ]
  },
  {
   "cell_type": "code",
   "execution_count": null,
   "metadata": {},
   "outputs": [],
   "source": []
  }
 ],
 "metadata": {
  "kernelspec": {
   "display_name": "masterproject",
   "language": "python",
   "name": "python3"
  },
  "language_info": {
   "codemirror_mode": {
    "name": "ipython",
    "version": 3
   },
   "file_extension": ".py",
   "mimetype": "text/x-python",
   "name": "python",
   "nbconvert_exporter": "python",
   "pygments_lexer": "ipython3",
   "version": "3.11.4"
  },
  "orig_nbformat": 4
 },
 "nbformat": 4,
 "nbformat_minor": 2
}
