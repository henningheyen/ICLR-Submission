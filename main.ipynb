{
 "cells": [
  {
   "cell_type": "code",
   "execution_count": 1,
   "metadata": {},
   "outputs": [],
   "source": [
    "from transformers import pipeline"
   ]
  },
  {
   "cell_type": "code",
   "execution_count": 2,
   "metadata": {},
   "outputs": [],
   "source": [
    "from utils import predict, get_results\n",
    "from explainer import show_lime\n"
   ]
  },
  {
   "cell_type": "code",
   "execution_count": 3,
   "metadata": {},
   "outputs": [],
   "source": [
    "classifier = pipeline(\"zero-shot-classification\", model='cross-encoder/nli-deberta-v3-base', use_fast = False)"
   ]
  },
  {
   "cell_type": "code",
   "execution_count": 4,
   "metadata": {},
   "outputs": [
    {
     "name": "stdout",
     "output_type": "stream",
     "text": [
      "[{'sequence': 'Life is boring', 'labels': ['negative sentiment', 'positive sentiment'], 'scores': [0.9941304326057434, 0.005869550164788961]}, {'sequence': 'Life is amazing', 'labels': ['positive sentiment', 'negative sentiment'], 'scores': [0.999532163143158, 0.0004678335099015385]}]\n"
     ]
    }
   ],
   "source": [
    "sent = [\"Life is boring\", \"Life is amazing\"]\n",
    "candidate_labels = [\"negative sentiment\", \"positive sentiment\"]\n",
    "result = get_results(classifier, sent, candidate_labels)\n",
    "print(result)"
   ]
  },
  {
   "cell_type": "code",
   "execution_count": 5,
   "metadata": {},
   "outputs": [
    {
     "data": {
      "text/plain": [
       "array([[9.28297877e-01, 7.17021078e-02],\n",
       "       [9.95484710e-01, 4.51527815e-03],\n",
       "       [3.65254164e-01, 6.34745836e-01],\n",
       "       [9.61026060e-04, 9.99038935e-01]])"
      ]
     },
     "execution_count": 5,
     "metadata": {},
     "output_type": "execute_result"
    }
   ],
   "source": [
    "sentences = [\n",
    "        \"contains no wit , only labored gags\",\n",
    "        \"Life is boring.\",\n",
    "        \"This is a completely neutral sentence.\",\n",
    "        \"Yeehaw, Germany won the World Cup\",\n",
    "    ]\n",
    "\n",
    "candidate_labels = [\"negative sentiment\", \"positive sentiment\"]\n",
    "\n",
    "predict(classifier, sentences, candidate_labels)"
   ]
  },
  {
   "cell_type": "code",
   "execution_count": null,
   "metadata": {},
   "outputs": [],
   "source": []
  }
 ],
 "metadata": {
  "kernelspec": {
   "display_name": "masterproject",
   "language": "python",
   "name": "python3"
  },
  "language_info": {
   "codemirror_mode": {
    "name": "ipython",
    "version": 3
   },
   "file_extension": ".py",
   "mimetype": "text/x-python",
   "name": "python",
   "nbconvert_exporter": "python",
   "pygments_lexer": "ipython3",
   "version": "3.11.4"
  },
  "orig_nbformat": 4
 },
 "nbformat": 4,
 "nbformat_minor": 2
}
